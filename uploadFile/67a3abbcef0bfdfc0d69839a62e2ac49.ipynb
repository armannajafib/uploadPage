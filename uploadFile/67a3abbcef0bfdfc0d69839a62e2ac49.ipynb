{
 "cells": [
  {
   "cell_type": "code",
   "execution_count": 6,
   "id": "3ec413b2",
   "metadata": {},
   "outputs": [
    {
     "ename": "SyntaxError",
     "evalue": "cannot assign to literal (953636639.py, line 3)",
     "output_type": "error",
     "traceback": [
      "\u001b[1;36m  Input \u001b[1;32mIn [6]\u001b[1;36m\u001b[0m\n\u001b[1;33m    for \"si\" in x:\u001b[0m\n\u001b[1;37m        ^\u001b[0m\n\u001b[1;31mSyntaxError\u001b[0m\u001b[1;31m:\u001b[0m cannot assign to literal\n"
     ]
    }
   ],
   "source": [
    "x = input(\"Enter your text:\")\n",
    "\n",
    "for \"si\" in x:\n",
    "    print(x.replace(\"si\" , \"dm\"))"
   ]
  },
  {
   "cell_type": "code",
   "execution_count": 7,
   "id": "87b34de2",
   "metadata": {},
   "outputs": [
    {
     "name": "stdout",
     "output_type": "stream",
     "text": [
      "Enter your text:sidmsi\n",
      "dmdmdm\n",
      "dmdmdm\n",
      "dmdmdm\n",
      "dmdmdm\n",
      "dmdmdm\n",
      "dmdmdm\n"
     ]
    }
   ],
   "source": [
    "x = input(\"Enter your text:\")\n",
    "\n",
    "for l in x:\n",
    "    print(x.replace(\"si\" , \"dm\"))"
   ]
  },
  {
   "cell_type": "code",
   "execution_count": null,
   "id": "c9c98d2a",
   "metadata": {},
   "outputs": [],
   "source": []
  }
 ],
 "metadata": {
  "kernelspec": {
   "display_name": "Python 3.10.5 64-bit",
   "language": "python",
   "name": "python3"
  },
  "language_info": {
   "codemirror_mode": {
    "name": "ipython",
    "version": 3
   },
   "file_extension": ".py",
   "mimetype": "text/x-python",
   "name": "python",
   "nbconvert_exporter": "python",
   "pygments_lexer": "ipython3",
   "version": "3.10.5"
  },
  "vscode": {
   "interpreter": {
    "hash": "d773ebbced6b9bc5c1adf72ff1943f9cb807da84d6c095458708f7f96e5acd79"
   }
  }
 },
 "nbformat": 4,
 "nbformat_minor": 5
}
